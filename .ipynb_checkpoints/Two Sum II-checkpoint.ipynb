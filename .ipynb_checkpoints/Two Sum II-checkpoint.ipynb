{
 "cells": [
  {
   "cell_type": "code",
   "execution_count": 10,
   "metadata": {
    "ExecuteTime": {
     "end_time": "2021-09-07T19:02:29.860490Z",
     "start_time": "2021-09-07T19:02:29.846490Z"
    }
   },
   "outputs": [],
   "source": [
    "def twoSum(numbers, target):\n",
    "    \"\"\"\n",
    "    :type nums: List[int]\n",
    "    :type target: int\n",
    "    :rtype: List[int]\n",
    "    \"\"\"\n",
    "    dic = {}\n",
    "    ans = []\n",
    "    test_max = max(numbers)\n",
    "    test_min = min(numbers)\n",
    "    for n, i in enumerate(numbers):\n",
    "        if dic == {}:\n",
    "            dic[i] = n\n",
    "        else:\n",
    "            if (target - i) in dic:\n",
    "                ans = [dic[target - i] + 1, n + 1]\n",
    "            elif ((test_max + i) >= target) and ((test_min + i) <= target):\n",
    "                dic[i] = n\n",
    "        if ans != []:\n",
    "            break\n",
    "    return ans\n"
   ]
  },
  {
   "cell_type": "code",
   "execution_count": 11,
   "metadata": {
    "ExecuteTime": {
     "end_time": "2021-09-07T19:02:30.160254Z",
     "start_time": "2021-09-07T19:02:30.145253Z"
    }
   },
   "outputs": [
    {
     "data": {
      "text/plain": [
       "[1, 2]"
      ]
     },
     "execution_count": 11,
     "metadata": {},
     "output_type": "execute_result"
    }
   ],
   "source": [
    "numbers = [2,7,11,15]\n",
    "target = 9\n",
    "twoSum(numbers, target)"
   ]
  },
  {
   "cell_type": "code",
   "execution_count": 12,
   "metadata": {
    "ExecuteTime": {
     "end_time": "2021-09-07T19:02:46.286470Z",
     "start_time": "2021-09-07T19:02:46.279471Z"
    }
   },
   "outputs": [
    {
     "data": {
      "text/plain": [
       "[1, 2]"
      ]
     },
     "execution_count": 12,
     "metadata": {},
     "output_type": "execute_result"
    }
   ],
   "source": [
    "numbers = [-1, 0]\n",
    "target = -1\n",
    "twoSum(numbers, target)"
   ]
  },
  {
   "cell_type": "code",
   "execution_count": null,
   "metadata": {},
   "outputs": [],
   "source": []
  }
 ],
 "metadata": {
  "kernelspec": {
   "display_name": "Python 3",
   "language": "python",
   "name": "python3"
  },
  "language_info": {
   "codemirror_mode": {
    "name": "ipython",
    "version": 3
   },
   "file_extension": ".py",
   "mimetype": "text/x-python",
   "name": "python",
   "nbconvert_exporter": "python",
   "pygments_lexer": "ipython3",
   "version": "3.7.6"
  }
 },
 "nbformat": 4,
 "nbformat_minor": 4
}
